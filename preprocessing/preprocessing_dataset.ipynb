{
 "cells": [
  {
   "cell_type": "markdown",
   "id": "cdec24eb",
   "metadata": {},
   "source": [
    "# PREPROCESAMIENTO DE IMÁGENES"
   ]
  },
  {
   "cell_type": "code",
   "execution_count": null,
   "id": "6c73c9383134a2ea",
   "metadata": {
    "ExecuteTime": {
     "end_time": "2025-04-16T14:11:55.859221Z",
     "start_time": "2025-04-16T14:11:55.856857Z"
    }
   },
   "outputs": [],
   "source": []
  }
 ],
 "metadata": {
  "kernelspec": {
   "display_name": "Python 3",
   "language": "python",
   "name": "python3"
  },
  "language_info": {
   "codemirror_mode": {
    "name": "ipython",
    "version": 2
   },
   "file_extension": ".py",
   "mimetype": "text/x-python",
   "name": "python",
   "nbconvert_exporter": "python",
   "pygments_lexer": "ipython2",
   "version": "2.7.6"
  }
 },
 "nbformat": 4,
 "nbformat_minor": 5
}
